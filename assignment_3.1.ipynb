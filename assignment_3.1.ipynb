{
 "cells": [
  {
   "cell_type": "markdown",
   "id": "e08b24f1",
   "metadata": {},
   "source": [
    "# <div align=\"center\">Discover, Measure, and Mitigate Bias in a Dataset"
   ]
  },
  {
   "cell_type": "markdown",
   "id": "90fa8216",
   "metadata": {},
   "source": [
    "The idea of fairness within AI comes from the idea that not all data is created equal, whether it’s measuring human populations or words in a document. If an AI algorithm is measuring the potential risk within a contract or agreement, such as a loan approval,  the context matters. Fairness in a legal setting is measuring whether a public policy is being applied equally across different races, genders, ethnicities and so forth. Fairness in AI means planning for these differences in data to make the end result representative of the goal that developers are actually trying to have the AI process tackle. In assessing human and civil rights and individual and societal harms from AI systems, research indicates that many forms of bias occur at the data collection stage. As a result, practices and methods to introduce fairness metrics into AI development can identify unprivileged attributes and measure bias. Then, techniques can be introduced to mitigate bias and find fairness in the dataset.  Using applied ethical practices of fairness in AI processes can mitigate harms from bias and produce a more complete end product from the AI processes. "
   ]
  },
  {
   "cell_type": "markdown",
   "id": "f1891017",
   "metadata": {},
   "source": [
    "## Assignment Instructions \n",
    "The three sections of this tutorial will guide you through steps to illustrate how bias in loan data can be discovered, measured, and mitigated using code techiques and metrics. The  data comes from a hypothetical loan processing dataset. The techniques in this tutorial can be used to discover biased subgroups, determine the amount of bias, and mitigate this bias.\n",
    "<strong> Complete the tutorial steps in each section, and respond to the indicated questions </strong>"
   ]
  },
  {
   "cell_type": "markdown",
   "id": "2cb85119",
   "metadata": {},
   "source": [
    "<a href='#explore_dataset'>Part 1 DISCOVER IMBALANCE</a>\n",
    " 1. Import necessary libraries. \n",
    " 2. Load the loan approval dataset. \n",
    " 3. Explore the dataset characteristics to identify biased subgroups.<br>\n",
    "\n",
    "<strong>Respond to prompt: Q1</strong>\n",
    "\n",
    "<a href='#measure_bias'>Part 2 MEASURE BIAS</a><p></p>\n",
    "\n",
    "1. Statistical Parity\n",
    "2. Odds Ratio\n",
    "3. Equal Opportunity Difference\n",
    "4. Disparate Impact\n",
    "\n",
    "<strong>Respond to prompts: Q2, Q3, Q4</strong>\n",
    "\n",
    "<a href='#logistic_regression'>Part 3 MITIGATE BIAS</a><p></p>\n",
    "\n",
    "1. Run a Baseline Logistic Regression on the Unbalanced / Biased Data\n",
    "2. Run a Logistic Regression with Re-Weighting \n",
    "3. Generate Synthetic Samples with SMOTE\n",
    "4. Run a Logistic Regression with SMOTE\n",
    "5. Logistic Regression with SMOTE + Re-Weighting\n",
    "6. Aggregate Classification Reports for Comparison\n",
    "\n",
    "<strong>Respond to prompts: Q5, Q6, Q7, Q8, Q9 and Q10</strong>"
   ]
  },
  {
   "cell_type": "markdown",
   "id": "e3bedc7e",
   "metadata": {},
   "source": [
    "***"
   ]
  },
  {
   "cell_type": "markdown",
   "id": "2e15e302",
   "metadata": {},
   "source": [
    "# Part 1 DISCOVER IMBALANCE <a id='explore_data'></a>"
   ]
  },
  {
   "cell_type": "markdown",
   "id": "e1604dc6",
   "metadata": {},
   "source": [
    "#### Import libraries"
   ]
  },
  {
   "cell_type": "code",
   "execution_count": 10,
   "id": "bd931780",
   "metadata": {},
   "outputs": [
    {
     "name": "stdout",
     "output_type": "stream",
     "text": [
      "Note: you may need to restart the kernel to use updated packages.\n",
      "Note: you may need to restart the kernel to use updated packages.\n"
     ]
    }
   ],
   "source": [
    "%pip install -q --upgrade pip\n",
    "%pip install -q scikit-learn"
   ]
  },
  {
   "cell_type": "code",
   "execution_count": 11,
   "id": "7fd78631",
   "metadata": {
    "scrolled": true
   },
   "outputs": [],
   "source": [
    "import pandas as pd\n",
    "import numpy as np\n",
    "import seaborn as sns\n",
    "import matplotlib.pyplot as plt\n",
    "from sklearn.preprocessing import LabelEncoder"
   ]
  },
  {
   "cell_type": "markdown",
   "id": "4b7a7e3d",
   "metadata": {},
   "source": [
    "#### Load the dataset"
   ]
  },
  {
   "cell_type": "code",
   "execution_count": 12,
   "id": "b2a64b1a",
   "metadata": {},
   "outputs": [],
   "source": [
    "#read data\n",
    "data = pd.read_csvdata = pd.read_csv(\"loan_approval_biased.csv\")\n",
    "\n",
    "# Clone the dataset \n",
    "data_clone = data.copy()\n"
   ]
  },
  {
   "cell_type": "code",
   "execution_count": 13,
   "id": "083ca19d",
   "metadata": {
    "scrolled": true
   },
   "outputs": [
    {
     "data": {
      "text/html": [
       "<div>\n",
       "<style scoped>\n",
       "    .dataframe tbody tr th:only-of-type {\n",
       "        vertical-align: middle;\n",
       "    }\n",
       "\n",
       "    .dataframe tbody tr th {\n",
       "        vertical-align: top;\n",
       "    }\n",
       "\n",
       "    .dataframe thead th {\n",
       "        text-align: right;\n",
       "    }\n",
       "</style>\n",
       "<table border=\"1\" class=\"dataframe\">\n",
       "  <thead>\n",
       "    <tr style=\"text-align: right;\">\n",
       "      <th></th>\n",
       "      <th>Loan_ID</th>\n",
       "      <th>Gender</th>\n",
       "      <th>Married</th>\n",
       "      <th>Dependents</th>\n",
       "      <th>Education</th>\n",
       "      <th>Self_Employed</th>\n",
       "      <th>ApplicantIncome</th>\n",
       "      <th>CoapplicantIncome</th>\n",
       "      <th>LoanAmount</th>\n",
       "      <th>Loan_Amount_Term</th>\n",
       "      <th>Credit_History</th>\n",
       "      <th>Property_Area</th>\n",
       "      <th>Loan_Status</th>\n",
       "    </tr>\n",
       "  </thead>\n",
       "  <tbody>\n",
       "    <tr>\n",
       "      <th>0</th>\n",
       "      <td>LP002317</td>\n",
       "      <td>Male</td>\n",
       "      <td>Yes</td>\n",
       "      <td>3+</td>\n",
       "      <td>Graduate</td>\n",
       "      <td>No</td>\n",
       "      <td>81000</td>\n",
       "      <td>0.0</td>\n",
       "      <td>360</td>\n",
       "      <td>360</td>\n",
       "      <td>0</td>\n",
       "      <td>Rural</td>\n",
       "      <td>Y</td>\n",
       "    </tr>\n",
       "    <tr>\n",
       "      <th>1</th>\n",
       "      <td>LP002101</td>\n",
       "      <td>Male</td>\n",
       "      <td>Yes</td>\n",
       "      <td>0</td>\n",
       "      <td>Graduate</td>\n",
       "      <td>No</td>\n",
       "      <td>63337</td>\n",
       "      <td>0.0</td>\n",
       "      <td>490</td>\n",
       "      <td>180</td>\n",
       "      <td>1</td>\n",
       "      <td>Urban</td>\n",
       "      <td>Y</td>\n",
       "    </tr>\n",
       "    <tr>\n",
       "      <th>2</th>\n",
       "      <td>LP001536</td>\n",
       "      <td>Male</td>\n",
       "      <td>Yes</td>\n",
       "      <td>3+</td>\n",
       "      <td>Graduate</td>\n",
       "      <td>No</td>\n",
       "      <td>39999</td>\n",
       "      <td>0.0</td>\n",
       "      <td>600</td>\n",
       "      <td>180</td>\n",
       "      <td>0</td>\n",
       "      <td>Semiurban</td>\n",
       "      <td>Y</td>\n",
       "    </tr>\n",
       "    <tr>\n",
       "      <th>3</th>\n",
       "      <td>LP001640</td>\n",
       "      <td>Male</td>\n",
       "      <td>Yes</td>\n",
       "      <td>0</td>\n",
       "      <td>Graduate</td>\n",
       "      <td>Yes</td>\n",
       "      <td>39147</td>\n",
       "      <td>4750.0</td>\n",
       "      <td>120</td>\n",
       "      <td>360</td>\n",
       "      <td>1</td>\n",
       "      <td>Semiurban</td>\n",
       "      <td>Y</td>\n",
       "    </tr>\n",
       "    <tr>\n",
       "      <th>4</th>\n",
       "      <td>LP002422</td>\n",
       "      <td>Male</td>\n",
       "      <td>No</td>\n",
       "      <td>1</td>\n",
       "      <td>Graduate</td>\n",
       "      <td>No</td>\n",
       "      <td>37719</td>\n",
       "      <td>0.0</td>\n",
       "      <td>152</td>\n",
       "      <td>360</td>\n",
       "      <td>1</td>\n",
       "      <td>Semiurban</td>\n",
       "      <td>Y</td>\n",
       "    </tr>\n",
       "  </tbody>\n",
       "</table>\n",
       "</div>"
      ],
      "text/plain": [
       "    Loan_ID Gender Married Dependents Education Self_Employed  \\\n",
       "0  LP002317   Male     Yes         3+  Graduate            No   \n",
       "1  LP002101   Male     Yes          0  Graduate            No   \n",
       "2  LP001536   Male     Yes         3+  Graduate            No   \n",
       "3  LP001640   Male     Yes          0  Graduate           Yes   \n",
       "4  LP002422   Male      No          1  Graduate            No   \n",
       "\n",
       "   ApplicantIncome  CoapplicantIncome  LoanAmount  Loan_Amount_Term  \\\n",
       "0            81000                0.0         360               360   \n",
       "1            63337                0.0         490               180   \n",
       "2            39999                0.0         600               180   \n",
       "3            39147             4750.0         120               360   \n",
       "4            37719                0.0         152               360   \n",
       "\n",
       "   Credit_History Property_Area Loan_Status  \n",
       "0               0         Rural           Y  \n",
       "1               1         Urban           Y  \n",
       "2               0     Semiurban           Y  \n",
       "3               1     Semiurban           Y  \n",
       "4               1     Semiurban           Y  "
      ]
     },
     "execution_count": 13,
     "metadata": {},
     "output_type": "execute_result"
    }
   ],
   "source": [
    "data_clone.head()"
   ]
  },
  {
   "cell_type": "code",
   "execution_count": 14,
   "id": "68e738e2",
   "metadata": {},
   "outputs": [
    {
     "data": {
      "text/html": [
       "<div>\n",
       "<style scoped>\n",
       "    .dataframe tbody tr th:only-of-type {\n",
       "        vertical-align: middle;\n",
       "    }\n",
       "\n",
       "    .dataframe tbody tr th {\n",
       "        vertical-align: top;\n",
       "    }\n",
       "\n",
       "    .dataframe thead th {\n",
       "        text-align: right;\n",
       "    }\n",
       "</style>\n",
       "<table border=\"1\" class=\"dataframe\">\n",
       "  <thead>\n",
       "    <tr style=\"text-align: right;\">\n",
       "      <th></th>\n",
       "      <th>Loan_ID</th>\n",
       "      <th>Gender</th>\n",
       "      <th>Married</th>\n",
       "      <th>Dependents</th>\n",
       "      <th>Education</th>\n",
       "      <th>Self_Employed</th>\n",
       "      <th>ApplicantIncome</th>\n",
       "      <th>CoapplicantIncome</th>\n",
       "      <th>LoanAmount</th>\n",
       "      <th>Loan_Amount_Term</th>\n",
       "      <th>Credit_History</th>\n",
       "      <th>Property_Area</th>\n",
       "      <th>Loan_Status</th>\n",
       "    </tr>\n",
       "  </thead>\n",
       "  <tbody>\n",
       "    <tr>\n",
       "      <th>609</th>\n",
       "      <td>LP002949</td>\n",
       "      <td>Female</td>\n",
       "      <td>No</td>\n",
       "      <td>3+</td>\n",
       "      <td>Graduate</td>\n",
       "      <td>No</td>\n",
       "      <td>416</td>\n",
       "      <td>41667.0</td>\n",
       "      <td>350</td>\n",
       "      <td>180</td>\n",
       "      <td>1</td>\n",
       "      <td>Urban</td>\n",
       "      <td>N</td>\n",
       "    </tr>\n",
       "    <tr>\n",
       "      <th>610</th>\n",
       "      <td>LP002717</td>\n",
       "      <td>Male</td>\n",
       "      <td>Yes</td>\n",
       "      <td>0</td>\n",
       "      <td>Graduate</td>\n",
       "      <td>No</td>\n",
       "      <td>1025</td>\n",
       "      <td>5500.0</td>\n",
       "      <td>216</td>\n",
       "      <td>360</td>\n",
       "      <td>0</td>\n",
       "      <td>Rural</td>\n",
       "      <td>N</td>\n",
       "    </tr>\n",
       "    <tr>\n",
       "      <th>611</th>\n",
       "      <td>LP001259</td>\n",
       "      <td>Male</td>\n",
       "      <td>Yes</td>\n",
       "      <td>1</td>\n",
       "      <td>Graduate</td>\n",
       "      <td>Yes</td>\n",
       "      <td>1000</td>\n",
       "      <td>3022.0</td>\n",
       "      <td>110</td>\n",
       "      <td>360</td>\n",
       "      <td>1</td>\n",
       "      <td>Urban</td>\n",
       "      <td>N</td>\n",
       "    </tr>\n",
       "    <tr>\n",
       "      <th>612</th>\n",
       "      <td>LP001722</td>\n",
       "      <td>Male</td>\n",
       "      <td>Yes</td>\n",
       "      <td>0</td>\n",
       "      <td>Graduate</td>\n",
       "      <td>No</td>\n",
       "      <td>150</td>\n",
       "      <td>1800.0</td>\n",
       "      <td>135</td>\n",
       "      <td>360</td>\n",
       "      <td>1</td>\n",
       "      <td>Rural</td>\n",
       "      <td>N</td>\n",
       "    </tr>\n",
       "    <tr>\n",
       "      <th>613</th>\n",
       "      <td>LP002502</td>\n",
       "      <td>Female</td>\n",
       "      <td>Yes</td>\n",
       "      <td>2</td>\n",
       "      <td>Not Graduate</td>\n",
       "      <td>No</td>\n",
       "      <td>210</td>\n",
       "      <td>2917.0</td>\n",
       "      <td>98</td>\n",
       "      <td>360</td>\n",
       "      <td>1</td>\n",
       "      <td>Semiurban</td>\n",
       "      <td>N</td>\n",
       "    </tr>\n",
       "  </tbody>\n",
       "</table>\n",
       "</div>"
      ],
      "text/plain": [
       "      Loan_ID  Gender Married Dependents     Education Self_Employed  \\\n",
       "609  LP002949  Female      No         3+      Graduate            No   \n",
       "610  LP002717    Male     Yes          0      Graduate            No   \n",
       "611  LP001259    Male     Yes          1      Graduate           Yes   \n",
       "612  LP001722    Male     Yes          0      Graduate            No   \n",
       "613  LP002502  Female     Yes          2  Not Graduate            No   \n",
       "\n",
       "     ApplicantIncome  CoapplicantIncome  LoanAmount  Loan_Amount_Term  \\\n",
       "609              416            41667.0         350               180   \n",
       "610             1025             5500.0         216               360   \n",
       "611             1000             3022.0         110               360   \n",
       "612              150             1800.0         135               360   \n",
       "613              210             2917.0          98               360   \n",
       "\n",
       "     Credit_History Property_Area Loan_Status  \n",
       "609               1         Urban           N  \n",
       "610               0         Rural           N  \n",
       "611               1         Urban           N  \n",
       "612               1         Rural           N  \n",
       "613               1     Semiurban           N  "
      ]
     },
     "execution_count": 14,
     "metadata": {},
     "output_type": "execute_result"
    }
   ],
   "source": [
    "data_clone.tail()"
   ]
  },
  {
   "cell_type": "markdown",
   "id": "88ee7d91",
   "metadata": {},
   "source": [
    "Review the column headers and attributes."
   ]
  },
  {
   "cell_type": "markdown",
   "id": "9ebaabe3",
   "metadata": {},
   "source": [
    "\n",
    "\n"
   ]
  },
  {
   "cell_type": "code",
   "execution_count": 15,
   "id": "d4b40813",
   "metadata": {},
   "outputs": [
    {
     "name": "stdout",
     "output_type": "stream",
     "text": [
      "       ApplicantIncome  CoapplicantIncome  LoanAmount  Loan_Amount_Term  \\\n",
      "count       614.000000         614.000000  614.000000        614.000000   \n",
      "mean       5403.459283        1621.245798  156.050489        334.866450   \n",
      "std        6109.041673        2926.248369   99.128597         79.599764   \n",
      "min         150.000000           0.000000    9.000000         12.000000   \n",
      "25%        2877.500000           0.000000  100.250000        360.000000   \n",
      "50%        3812.500000        1188.500000  129.000000        360.000000   \n",
      "75%        5795.000000        2297.250000  175.000000        360.000000   \n",
      "max       81000.000000       41667.000000  700.000000        480.000000   \n",
      "\n",
      "       Credit_History  \n",
      "count      614.000000  \n",
      "mean         0.812704  \n",
      "std          0.390467  \n",
      "min          0.000000  \n",
      "25%          1.000000  \n",
      "50%          1.000000  \n",
      "75%          1.000000  \n",
      "max          1.000000  \n"
     ]
    }
   ],
   "source": [
    "print(data_clone.describe())"
   ]
  },
  {
   "cell_type": "markdown",
   "id": "c6a504c1",
   "metadata": {},
   "source": [
    "<br>"
   ]
  },
  {
   "cell_type": "code",
   "execution_count": 16,
   "id": "4f7a9009",
   "metadata": {},
   "outputs": [
    {
     "name": "stdout",
     "output_type": "stream",
     "text": [
      "Counts of each gender in the dataset\n",
      "Gender\n",
      "Male      497\n",
      "Female    117\n",
      "Name: count, dtype: int64\n"
     ]
    }
   ],
   "source": [
    "# Count the number of males and females in the dataset\n",
    "gender_counts = data_clone['Gender'].value_counts()\n",
    "\n",
    "# Print the counts\n",
    "print(\"Counts of each gender in the dataset\")\n",
    "print(gender_counts)"
   ]
  },
  {
   "cell_type": "code",
   "execution_count": 17,
   "id": "6be1e4c7",
   "metadata": {},
   "outputs": [],
   "source": [
    "# Create a label encoder object\n",
    "le = LabelEncoder()\n",
    "\n",
    "# List of columns to be label encoded\n",
    "label_encoded_columns = ['Gender', 'Married', 'Education', 'Self_Employed', 'Property_Area', 'Loan_Status']\n",
    "\n",
    "# Apply label encoding to each column of the cloned DataFrame\n",
    "for col in label_encoded_columns:\n",
    "    data_clone[col] = le.fit_transform(data_clone[col])\n"
   ]
  },
  {
   "cell_type": "code",
   "execution_count": 18,
   "id": "08a16133",
   "metadata": {},
   "outputs": [],
   "source": [
    "data_clone['Dependents'] = data_clone['Dependents'].replace('3+', 3)"
   ]
  },
  {
   "cell_type": "code",
   "execution_count": 19,
   "id": "b809bb8a",
   "metadata": {
    "scrolled": true
   },
   "outputs": [
    {
     "data": {
      "text/html": [
       "<div>\n",
       "<style scoped>\n",
       "    .dataframe tbody tr th:only-of-type {\n",
       "        vertical-align: middle;\n",
       "    }\n",
       "\n",
       "    .dataframe tbody tr th {\n",
       "        vertical-align: top;\n",
       "    }\n",
       "\n",
       "    .dataframe thead th {\n",
       "        text-align: right;\n",
       "    }\n",
       "</style>\n",
       "<table border=\"1\" class=\"dataframe\">\n",
       "  <thead>\n",
       "    <tr style=\"text-align: right;\">\n",
       "      <th></th>\n",
       "      <th>Loan_ID</th>\n",
       "      <th>Gender</th>\n",
       "      <th>Married</th>\n",
       "      <th>Dependents</th>\n",
       "      <th>Education</th>\n",
       "      <th>Self_Employed</th>\n",
       "      <th>ApplicantIncome</th>\n",
       "      <th>CoapplicantIncome</th>\n",
       "      <th>LoanAmount</th>\n",
       "      <th>Loan_Amount_Term</th>\n",
       "      <th>Credit_History</th>\n",
       "      <th>Property_Area</th>\n",
       "      <th>Loan_Status</th>\n",
       "    </tr>\n",
       "  </thead>\n",
       "  <tbody>\n",
       "    <tr>\n",
       "      <th>0</th>\n",
       "      <td>LP002317</td>\n",
       "      <td>1</td>\n",
       "      <td>1</td>\n",
       "      <td>3</td>\n",
       "      <td>0</td>\n",
       "      <td>0</td>\n",
       "      <td>81000</td>\n",
       "      <td>0.0</td>\n",
       "      <td>360</td>\n",
       "      <td>360</td>\n",
       "      <td>0</td>\n",
       "      <td>0</td>\n",
       "      <td>1</td>\n",
       "    </tr>\n",
       "    <tr>\n",
       "      <th>1</th>\n",
       "      <td>LP002101</td>\n",
       "      <td>1</td>\n",
       "      <td>1</td>\n",
       "      <td>0</td>\n",
       "      <td>0</td>\n",
       "      <td>0</td>\n",
       "      <td>63337</td>\n",
       "      <td>0.0</td>\n",
       "      <td>490</td>\n",
       "      <td>180</td>\n",
       "      <td>1</td>\n",
       "      <td>2</td>\n",
       "      <td>1</td>\n",
       "    </tr>\n",
       "    <tr>\n",
       "      <th>2</th>\n",
       "      <td>LP001536</td>\n",
       "      <td>1</td>\n",
       "      <td>1</td>\n",
       "      <td>3</td>\n",
       "      <td>0</td>\n",
       "      <td>0</td>\n",
       "      <td>39999</td>\n",
       "      <td>0.0</td>\n",
       "      <td>600</td>\n",
       "      <td>180</td>\n",
       "      <td>0</td>\n",
       "      <td>1</td>\n",
       "      <td>1</td>\n",
       "    </tr>\n",
       "    <tr>\n",
       "      <th>3</th>\n",
       "      <td>LP001640</td>\n",
       "      <td>1</td>\n",
       "      <td>1</td>\n",
       "      <td>0</td>\n",
       "      <td>0</td>\n",
       "      <td>1</td>\n",
       "      <td>39147</td>\n",
       "      <td>4750.0</td>\n",
       "      <td>120</td>\n",
       "      <td>360</td>\n",
       "      <td>1</td>\n",
       "      <td>1</td>\n",
       "      <td>1</td>\n",
       "    </tr>\n",
       "    <tr>\n",
       "      <th>4</th>\n",
       "      <td>LP002422</td>\n",
       "      <td>1</td>\n",
       "      <td>0</td>\n",
       "      <td>1</td>\n",
       "      <td>0</td>\n",
       "      <td>0</td>\n",
       "      <td>37719</td>\n",
       "      <td>0.0</td>\n",
       "      <td>152</td>\n",
       "      <td>360</td>\n",
       "      <td>1</td>\n",
       "      <td>1</td>\n",
       "      <td>1</td>\n",
       "    </tr>\n",
       "  </tbody>\n",
       "</table>\n",
       "</div>"
      ],
      "text/plain": [
       "    Loan_ID  Gender  Married Dependents  Education  Self_Employed  \\\n",
       "0  LP002317       1        1          3          0              0   \n",
       "1  LP002101       1        1          0          0              0   \n",
       "2  LP001536       1        1          3          0              0   \n",
       "3  LP001640       1        1          0          0              1   \n",
       "4  LP002422       1        0          1          0              0   \n",
       "\n",
       "   ApplicantIncome  CoapplicantIncome  LoanAmount  Loan_Amount_Term  \\\n",
       "0            81000                0.0         360               360   \n",
       "1            63337                0.0         490               180   \n",
       "2            39999                0.0         600               180   \n",
       "3            39147             4750.0         120               360   \n",
       "4            37719                0.0         152               360   \n",
       "\n",
       "   Credit_History  Property_Area  Loan_Status  \n",
       "0               0              0            1  \n",
       "1               1              2            1  \n",
       "2               0              1            1  \n",
       "3               1              1            1  \n",
       "4               1              1            1  "
      ]
     },
     "execution_count": 19,
     "metadata": {},
     "output_type": "execute_result"
    }
   ],
   "source": [
    "data_clone.head()"
   ]
  },
  {
   "cell_type": "markdown",
   "id": "fde283e3",
   "metadata": {},
   "source": [
    "#### Determine the loan approval rates by gender. (0 = Female, 1 = Male)"
   ]
  },
  {
   "cell_type": "code",
   "execution_count": 20,
   "id": "70bdd7c2",
   "metadata": {},
   "outputs": [
    {
     "name": "stdout",
     "output_type": "stream",
     "text": [
      "Gender\n",
      "1    217\n",
      "0      2\n",
      "Name: count, dtype: int64\n"
     ]
    }
   ],
   "source": [
    "# Filter for approved loans\n",
    "approved_loans = data_clone[data_clone['Loan_Status'] == 1]\n",
    "\n",
    "# Count the number of approved loans for each gender\n",
    "gender_approval_counts = approved_loans['Gender'].value_counts()\n",
    "\n",
    "print(gender_approval_counts)"
   ]
  },
  {
   "cell_type": "markdown",
   "id": "ab0d749a",
   "metadata": {},
   "source": [
    "#### Create Correlation Heatmap to examine data for bias"
   ]
  },
  {
   "cell_type": "code",
   "execution_count": 21,
   "id": "3ae20d03",
   "metadata": {},
   "outputs": [
    {
     "data": {
      "image/png": "[encoded data removed]",
      "text/plain": [
       "<Figure size 640x480 with 2 Axes>"
      ]
     },
     "metadata": {},
     "output_type": "display_data"
    }
   ],
   "source": [
    "eda_data = data.copy()\n",
    "\n",
    "# Convert 'Gender' to numeric for visualization purposes only\n",
    "# **Be mindful when converting \"F\" and \"M\" to 0 and 1. Converting gender to a binary can oversimplify a\n",
    "# multidimensional aspect of human identity, could potentially reinforce stereotypes, and create a \n",
    "# hierarcy.**\n",
    "\n",
    "eda_data['Gender'] = eda_data['Gender'].map({'Female': 0, 'Male': 1})\n",
    "\n",
    "# convert for heatmap\n",
    "gender_stat = {\"Female\": 0, \"Male\": 1}\n",
    "yes_no_stat = {\"No\" : 0,\"Yes\" : 1}\n",
    "dependents_stat = {\"0\":0,\"1\":1,\"2\":2,\"3+\":3}\n",
    "education_stat = {\"Not Graduate\" : 0, \"Graduate\" : 1}\n",
    "property_stat = {\"Semiurban\" : 0, \"Urban\" : 1,\"Rural\" : 2}\n",
    "status_stat = {\"N\" : 0, \"Y\" : 1}\n",
    "\n",
    "eda_data[\"Gender\"] = eda_data[\"Gender\"].replace(gender_stat)\n",
    "eda_data[\"Married\"] = eda_data[\"Married\"].replace(yes_no_stat)\n",
    "eda_data[\"Dependents\"] = eda_data[\"Dependents\"].replace(dependents_stat)\n",
    "eda_data[\"Education\"] = eda_data[\"Education\"].replace(education_stat)\n",
    "eda_data[\"Self_Employed\"] = eda_data[\"Self_Employed\"].replace(yes_no_stat)\n",
    "eda_data[\"Property_Area\"] = eda_data[\"Property_Area\"].replace(property_stat)\n",
    "eda_data[\"Loan_Status\"] = eda_data[\"Loan_Status\"].replace(status_stat)\n",
    "\n",
    "sns.heatmap(eda_data.corr(numeric_only=True), annot=True, fmt=\".2f\", cmap=\"PuBuGn\")\n",
    "plt.title(\"Heatmap Correlation in Biased Loan Approval Dataset\")\n",
    "plt.show()"
   ]
  },
  {
   "cell_type": "markdown",
   "id": "fd0ec801",
   "metadata": {},
   "source": [
    "***"
   ]
  },
  {
   "cell_type": "markdown",
   "id": "d2f9e31f",
   "metadata": {},
   "source": [
    "### Q1 Based on the Correlation Heatmap, which observations can you make?\n",
    "<p><font color='blue'>Graded cell &#9658;</font></p>"
   ]
  },
  {
   "cell_type": "markdown",
   "id": "6501b72b",
   "metadata": {},
   "source": [
    "Response:\n",
    "I can tell that a majority of the males (biased dataset) that are married have a better chance at having an approved loan. I can also tell that the application income and loan amount are highly correlated. Another correlation with the applicant income is with the loan status amount. One could assume that the higher the application income, the greater the loan amount available is and the higher probability of a healhier loan status is. \n"
   ]
  },
  {
   "cell_type": "markdown",
   "id": "9822ed67",
   "metadata": {},
   "source": [
    "***"
   ]
  },
  {
   "cell_type": "markdown",
   "id": "fb776bd5",
   "metadata": {},
   "source": [
    "# PART 2: MEASURE THE BIAS <a id='measure_bias'></a>"
   ]
  },
  {
   "cell_type": "markdown",
   "id": "59e8cbd4",
   "metadata": {},
   "source": [
    "In Part 2 you will examine four methods to measure bias in a dataset. \n",
    "\n",
    "1. Statistial Parity  \n",
    "2. Odds Ratio\n",
    "3. Equal Opportunity Difference\n",
    "4. Disparate Impact \n"
   ]
  },
  {
   "cell_type": "markdown",
   "id": "fe35a06d",
   "metadata": {},
   "source": [
    "### Statistical Parity\n",
    "\n",
    "Statistical parity is the concept where a particular outcome or benefit is equally distributed across all groups in a population.  Simply put, it is a measurement of the difference in probabilities of a positive outcome across two groups. In an ideal and fair world, a statistical parity of 0 would be seen as ideal as it would indicate that there is no disparity in outcomes."
   ]
  },
  {
   "cell_type": "code",
   "execution_count": 22,
   "id": "a1033c2e",
   "metadata": {},
   "outputs": [],
   "source": [
    "# Filter the dataset for approved loans\n",
    "approved_loans = data_clone[data_clone['Loan_Status'] == 1]\n",
    "\n",
    "# Calculate the counts of approved loans for each gender\n",
    "approved_counts = approved_loans['Gender'].value_counts()\n"
   ]
  },
  {
   "cell_type": "code",
   "execution_count": 23,
   "id": "aa1adc2c",
   "metadata": {
    "scrolled": true
   },
   "outputs": [
    {
     "name": "stdout",
     "output_type": "stream",
     "text": [
      "Gender\n",
      "1    497\n",
      "0    117\n",
      "Name: count, dtype: int64\n",
      "Loan Approval Rate for Males: 0.44\n",
      "Loan Approval Rate for Females: 0.02\n",
      "Difference in Approval Rates: 0.42\n"
     ]
    }
   ],
   "source": [
    "#calculate the total counts for each gender\n",
    "gender_counts = data_clone['Gender'].value_counts()\n",
    "print(gender_counts)\n",
    "\n",
    "# Now, calculate the approval rates\n",
    "approval_rate_male = approved_counts[1] / gender_counts[1]  # 1 is Male\n",
    "approval_rate_female = approved_counts[0] / gender_counts[0]  # 0 is Female\n",
    "\n",
    "# Print the approval rates\n",
    "print(f\"Loan Approval Rate for Males: {approval_rate_male:.2f}\")\n",
    "print(f\"Loan Approval Rate for Females: {approval_rate_female:.2f}\")\n",
    "\n",
    "# Compare the rates to check for statistical parity\n",
    "parity_difference = abs(approval_rate_male - approval_rate_female)\n",
    "print(f\"Difference in Approval Rates: {parity_difference:.2f}\")\n"
   ]
  },
  {
   "cell_type": "markdown",
   "id": "c9d6e61e",
   "metadata": {},
   "source": [
    "### Odds Ratio"
   ]
  },
  {
   "cell_type": "markdown",
   "id": "d283a7cb",
   "metadata": {},
   "source": [
    "The odds ratio is a measure of association between an exposure and an outcome. In the context of loan approvals for this dataset, it would be the ratio of the odds of a loan being approved for females to the odds of a loan being approved for males.\n",
    "\n",
    "The odds of approval are calculated as the ratio of loans approved to those not approved. For instance, if 20 loans are approved and 80 are not, the odds of approval would be 20/80 or 0.25.\n",
    "\n",
    "To calculate the odds ratio (OR):\n",
    "\n",
    "OR = Odds Female / Odds Male\n",
    " \n",
    "If OR > 1, it implies higher odds of approval for females; OR < 1 implies lower odds of approval for females compared to males."
   ]
  },
  {
   "cell_type": "code",
   "execution_count": 24,
   "id": "1749b3c4",
   "metadata": {},
   "outputs": [
    {
     "name": "stdout",
     "output_type": "stream",
     "text": [
      "Odds Ratio: 0.022440392706872377\n"
     ]
    }
   ],
   "source": [
    "# calculate odds for each gender\n",
    "odds_female = data_clone[data_clone['Gender'] == 0]['Loan_Status'].mean() / (1 - data_clone[data_clone['Gender'] == 0]['Loan_Status'].mean())\n",
    "odds_male = data_clone[data_clone['Gender'] == 1]['Loan_Status'].mean() / (1 - data_clone[data_clone['Gender'] == 1]['Loan_Status'].mean())\n",
    "\n",
    "# Calculate Odds Ratio\n",
    "odds_ratio = odds_female / odds_male\n",
    "\n",
    "# Print results\n",
    "print(f\"Odds Ratio: {odds_ratio}\")\n",
    "\n"
   ]
  },
  {
   "cell_type": "markdown",
   "id": "4881aefe",
   "metadata": {},
   "source": [
    "### Eqaual Opportunity Difference (EOD)"
   ]
  },
  {
   "cell_type": "markdown",
   "id": "a2e3a50f",
   "metadata": {},
   "source": [
    "Equal opportunity difference is a fairness metric that measures the difference in the true positive rates (sensitivity) between two groups. In this dataset, it is the difference in the rate at which loans are correctly approved for females and males.\n",
    "\n",
    "To calculate equal opportunity difference (EOD):\n",
    "\n",
    "EOD = TPRfemale - TPRmale \n",
    "\n",
    "Here, TPR (True Positive Rate) is the proportion of actual positives that are correctly identified as such (e.g., the proportion of qualified loan applicants who are correctly approved).\n",
    "\n",
    "If EOD is zero, there is no disparity in approval rates between genders; if EOD is positive, females have a higher rate of correct approval; if EOD is negative, males have a higher rate of correct approval."
   ]
  },
  {
   "cell_type": "code",
   "execution_count": 25,
   "id": "8493efb1",
   "metadata": {},
   "outputs": [
    {
     "name": "stdout",
     "output_type": "stream",
     "text": [
      "Equal Opportunity Difference: -0.41952570121584204\n"
     ]
    }
   ],
   "source": [
    "\n",
    "# Calculate True Positive Rates for each gender\n",
    "tpr_female = data_clone[(data_clone['Gender'] == 0) & (data_clone['Loan_Status'] == 1)].shape[0] / data_clone[data_clone['Gender'] == 0].shape[0]\n",
    "tpr_male = data_clone[(data_clone['Gender'] == 1) & (data_clone['Loan_Status'] == 1)].shape[0] / data_clone[data_clone['Gender'] == 1].shape[0]\n",
    "\n",
    "# Calculate Equal Opportunity Difference\n",
    "equal_opportunity_difference = tpr_female - tpr_male\n",
    "\n",
    "# Print results\n",
    "print(f\"Equal Opportunity Difference: {equal_opportunity_difference}\")"
   ]
  },
  {
   "cell_type": "markdown",
   "id": "8c89990b",
   "metadata": {},
   "source": [
    "## Disparate Impact"
   ]
  },
  {
   "cell_type": "markdown",
   "id": "c9b6b0c9",
   "metadata": {},
   "source": [
    "\n",
    "Disparate impact refers to a concept used primarily in employment and anti-discrimination law, though it also applies to other areas such as housing and lending. It occurs when a seemingly neutral policy, criterion, or practice has a disproportionately negative effect on a specific group of people, particularly when that group is defined by characteristics such as race, gender, age, or disability, even when there is no intential discrimination.\n"
   ]
  },
  {
   "cell_type": "markdown",
   "id": "013988bf",
   "metadata": {},
   "source": [
    "#### Loan_Approval Disparate Impact (DI) in Females\n",
    "The industry standard for determining disparate impact in loan approvals often revolves around  a rule know as the 80% rule, or four-fifths rule. (This guideline is used in the United States by the Equal Employment Opportunity Commission and is often referenced in other areas such as lending practices under fair lending laws.)\n",
    "\n",
    "*Important to note that is a guideline, not a law in lending."
   ]
  },
  {
   "cell_type": "markdown",
   "id": "d7b8dd4c",
   "metadata": {},
   "source": [
    "#### Initial Approval Rates by Gender "
   ]
  },
  {
   "cell_type": "code",
   "execution_count": 26,
   "id": "c57093cc",
   "metadata": {
    "scrolled": true
   },
   "outputs": [
    {
     "name": "stdout",
     "output_type": "stream",
     "text": [
      "Initial Approval Rates by Gender:Female = 0, Male = 1\n",
      "Gender\n",
      "0    0.017094\n",
      "1    0.436620\n",
      "Name: Loan_Status, dtype: float64\n"
     ]
    }
   ],
   "source": [
    "# Calculate initial approval rates by gender\n",
    "approval_rates = data_clone.groupby('Gender')['Loan_Status'].mean()\n",
    "\n",
    "# Print initial approval rates\n",
    "print(\"Initial Approval Rates by Gender:Female = 0, Male = 1\")\n",
    "print(approval_rates)"
   ]
  },
  {
   "cell_type": "code",
   "execution_count": 27,
   "id": "28737b2a",
   "metadata": {},
   "outputs": [
    {
     "name": "stdout",
     "output_type": "stream",
     "text": [
      "Initial Disparate Impact\n",
      "0.03915081334436174\n"
     ]
    }
   ],
   "source": [
    "# Calculate initial disparate impact\n",
    "\n",
    "#approval rates of females / approval rates of males\n",
    "initial_di = approval_rates[0] / approval_rates[1]\n",
    "\n",
    "print(\"Initial Disparate Impact\")\n",
    "print(initial_di)"
   ]
  },
  {
   "cell_type": "markdown",
   "id": "71047942",
   "metadata": {},
   "source": [
    "### Q2 After examining the results of the statistical parity, the odds ratio, the equal opportunity distance, and the disparate impact, what can you conclude from the data?\n",
    "<p>Graded cell &#9658;</p>"
   ]
  },
  {
   "cell_type": "markdown",
   "id": "d45beae2",
   "metadata": {},
   "source": [
    "<font color=\"blue\">Response: </font>\n",
    "\n",
    "That the dataset is baised and heavy in favor for Males in loans. \n",
    "\n"
   ]
  },
  {
   "cell_type": "markdown",
   "id": "b89c8093",
   "metadata": {},
   "source": [
    "### Q3. Which types of potential bias can you identify in this loan approval dataset? Provide specific examples and explain how the bias you identified is reflected in the data.\n",
    "<p>Graded cell &#9658;</p>"
   ]
  },
  {
   "cell_type": "markdown",
   "id": "0a8b1390",
   "metadata": {},
   "source": [
    "<font color=\"blue\">Response: </font>\n",
    "\n",
    "Three types of bias I see are gender, income, and marital bias. Gender bias can be seen by the facts of the Initial Approval Rates by Gender (Female: 0.017094 / Male: 0.436620) and Equal Opportunity Difference: -0.41952570121584204. The marital bias could be seen from the value 0.35 in the heatmap. Finally the income biased could be determine from the 0.48 correlation value application income and loan status. Even though they make more money shouldn't always determine if they should qualify for the loan. \n",
    "\n",
    "\n",
    "\n"
   ]
  },
  {
   "cell_type": "markdown",
   "id": "7be8fb1a",
   "metadata": {},
   "source": [
    "### Q4. If unaddressed, how can the biases you identified affect: a.) individuals, b.) enterprises, and c.) society?\n",
    "<p>Graded cells &#9658;</p>\n"
   ]
  },
  {
   "cell_type": "markdown",
   "id": "86c70fe7",
   "metadata": {},
   "source": [
    "<font color=\"blue\">Response:[Individuals]</font>\n",
    "\n",
    "Femals may have harder time trying to get loans approved. In could impact what kind of home they get because it may require them to save more money and not get the home they wanted. Unqualifed males could instead get the loans earlier during a moving housing market. "
   ]
  },
  {
   "cell_type": "markdown",
   "id": "b9a4dc71",
   "metadata": {},
   "source": [
    "<font color=\"blue\">Response:[Organizations] </font>\n",
    "\n",
    "Organiations that offer or approve of these loans could become liable to a lawsuit if qualified females notice they are be ing discrimated against. "
   ]
  },
  {
   "cell_type": "markdown",
   "id": "5ca8e6e3",
   "metadata": {},
   "source": [
    "<font color=\"blue\">Response:[Society] </font>\n",
    "\n",
    "As a society, females could subconsiously feel more pressure to marry in order to qualify for a loan and get started with as a family sooner.  "
   ]
  },
  {
   "cell_type": "markdown",
   "id": "67743d37",
   "metadata": {},
   "source": [
    "***"
   ]
  },
  {
   "cell_type": "markdown",
   "id": "0fb73921",
   "metadata": {},
   "source": [
    "# Part 3 MITIGATE THE BIAS <a id='logistic_regression'></a>"
   ]
  },
  {
   "cell_type": "markdown",
   "id": "c97b6410",
   "metadata": {},
   "source": [
    "In this portion of the assignment, you will assess the impact of re-weighting, generating synthetic samples (with SMOTE), and a combining re-weighting and synthetic samples on a logistic regression. You will then assess performance and the trade-offs through comparison of their evaluation metrics.\n",
    "***\n",
    "1. Run a Baseline Logistic Regression on the Unbalanced / Biased Data\n",
    "2. Run a Logistic Regression with Re-Weighting\n",
    "3. Generate Synthetic Samples with SMOTE\n",
    "4. Run a Logistic Regression with SMOTE\n",
    "5. Logistic Regression with SMOTE + Re-Weighting\n",
    "6. Aggregate Classification Reports for Comparison"
   ]
  },
  {
   "cell_type": "markdown",
   "id": "6b4d1a7d",
   "metadata": {},
   "source": [
    "### Run a Baseline Logistic Regression on the Unbalanced / Biased Data"
   ]
  },
  {
   "cell_type": "code",
   "execution_count": 28,
   "id": "4d7ffbb9",
   "metadata": {},
   "outputs": [],
   "source": [
    "from sklearn.linear_model import LogisticRegression\n",
    "from sklearn.model_selection import train_test_split\n",
    "from sklearn.metrics import classification_report, confusion_matrix\n"
   ]
  },
  {
   "cell_type": "code",
   "execution_count": 29,
   "id": "880b7761",
   "metadata": {},
   "outputs": [
    {
     "name": "stdout",
     "output_type": "stream",
     "text": [
      "              precision    recall  f1-score   support\n",
      "\n",
      "           0       0.87      0.95      0.90        75\n",
      "           1       0.90      0.77      0.83        48\n",
      "\n",
      "    accuracy                           0.88       123\n",
      "   macro avg       0.88      0.86      0.87       123\n",
      "weighted avg       0.88      0.88      0.88       123\n",
      "\n"
     ]
    }
   ],
   "source": [
    "# Define your features (X) and target variable (y)\n",
    "X = data_clone.drop(['Loan_ID', 'Loan_Status'], axis=1)  \n",
    "y = data_clone['Loan_Status']\n",
    "\n",
    "# Split the data into training and test sets\n",
    "X_train, X_test, y_train, y_test = train_test_split(X, y, test_size=0.2, random_state=531)\n",
    "\n",
    "# Train a logistic regression model on the original data\n",
    "logreg = LogisticRegression(max_iter=10000)\n",
    "logreg.fit(X_train, y_train)\n",
    "\n",
    "# Evaluate the model\n",
    "y_pred = logreg.predict(X_test)\n",
    "cr_unbalanced_biased = classification_report(y_test, y_pred)\n",
    "print(cr_unbalanced_biased)\n"
   ]
  },
  {
   "cell_type": "markdown",
   "id": "d97915f0",
   "metadata": {},
   "source": [
    "### Run a Logistic Regression with Re-Weighting"
   ]
  },
  {
   "cell_type": "markdown",
   "id": "38340a53",
   "metadata": {},
   "source": [
    "<p><font color='blue'>Graded cell &#9658;</font></p>"
   ]
  },
  {
   "cell_type": "code",
   "execution_count": 30,
   "id": "d3f92da0",
   "metadata": {},
   "outputs": [],
   "source": [
    "\n",
    "#Approval Rate for Females before re-weighting = 1.7094%\n",
    "#Approval Rate for Males before re-weighting = 43.6620%\n",
    "\n",
    "#DI equation: Pr(Y=1 | D=unprivileged) / Pr(Y=1 | D=privileged)\n",
    "\n",
    "#plugging the numbers in ---> new weight for females = (0.8 * 43.6620%) / 1.7094  ≈ 20.5\n",
    "\n",
    "\n",
    "# Define the class weights for re-weighting\n",
    "# It could potentially be worthwhile to try different weights\n",
    "\n",
    "def reweight_model(weights={0: 20.5, 1: 1}):\n",
    "    class_weights = weights  # (Re-weight females)\n",
    "\n",
    "    # Create the logistic regression model with class weights\n",
    "\n",
    "    logreg = LogisticRegression(max_iter=10000, class_weight=class_weights)\n",
    "\n",
    "    logreg.fit(X_train, y_train)\n",
    "\n",
    "    # Evaluate the model\n",
    "    y_pred = logreg.predict(X_test)\n",
    "    cr = classification_report(y_test, y_pred)\n",
    "\n",
    "    return cr\n",
    "\n"
   ]
  },
  {
   "cell_type": "code",
   "execution_count": 31,
   "id": "a16a0cbe",
   "metadata": {},
   "outputs": [
    {
     "name": "stdout",
     "output_type": "stream",
     "text": [
      "              precision    recall  f1-score   support\n",
      "\n",
      "           0       0.71      1.00      0.83        75\n",
      "           1       1.00      0.38      0.55        48\n",
      "\n",
      "    accuracy                           0.76       123\n",
      "   macro avg       0.86      0.69      0.69       123\n",
      "weighted avg       0.83      0.76      0.72       123\n",
      "\n"
     ]
    }
   ],
   "source": [
    "cr_logreg_unbiased_reweighted =reweight_model()\n",
    "print(cr_logreg_unbiased_reweighted)"
   ]
  },
  {
   "cell_type": "markdown",
   "id": "b83df540",
   "metadata": {},
   "source": [
    "# Generate Synthetic Samples with SMOTE"
   ]
  },
  {
   "cell_type": "markdown",
   "id": "ae94e22a",
   "metadata": {},
   "source": [
    "### Using SMOTE to generate synthetic samples from the minority class (females) to help balance the data.\n",
    "    "
   ]
  },
  {
   "cell_type": "markdown",
   "id": "14e22f38",
   "metadata": {},
   "source": [
    "SMOTE (Synthetic Minority Over-sampling Technique) is an oversampling method to balance datasets. It works by creating synthetic samples from the minority class (in this case, 'Female' if we consider 'Gender' for minority oversampling, or 'N' for 'Loan_Status' if we are considering the outcome) instead of creating copies. This is done by randomly picking a point from the minority class and computing the k-nearest neighbors for this point. The synthetic points are added between the chosen point and its neighbors."
   ]
  },
  {
   "cell_type": "markdown",
   "id": "740e6fd1",
   "metadata": {},
   "source": [
    "1.) Before applying SMOTE, the dataset should be split into training and testing sets.\n",
    "\n",
    "2.) SMOTE should only be applied to the training set.(SMOTE generates synthetic samples based on the existing minority \n",
    "    class in the data applying it to your test set would introduce synthetic data into the set that you'll use for \n",
    "    validation, which can lead to overly inflated performance estimates.)"
   ]
  },
  {
   "cell_type": "code",
   "execution_count": 32,
   "id": "b0e5e295",
   "metadata": {},
   "outputs": [
    {
     "name": "stdout",
     "output_type": "stream",
     "text": [
      "Requirement already satisfied: imblearn in /Users/yivl/masters/AAI-521-Sports-Image-Classification/venv/lib/python3.11/site-packages (0.0)\n",
      "Requirement already satisfied: imbalanced-learn in /Users/yivl/masters/AAI-521-Sports-Image-Classification/venv/lib/python3.11/site-packages (from imblearn) (0.12.0)\n",
      "Requirement already satisfied: numpy>=1.17.3 in /Users/yivl/masters/AAI-521-Sports-Image-Classification/venv/lib/python3.11/site-packages (from imbalanced-learn->imblearn) (1.26.2)\n",
      "Requirement already satisfied: scipy>=1.5.0 in /Users/yivl/masters/AAI-521-Sports-Image-Classification/venv/lib/python3.11/site-packages (from imbalanced-learn->imblearn) (1.11.4)\n",
      "Requirement already satisfied: scikit-learn>=1.0.2 in /Users/yivl/masters/AAI-521-Sports-Image-Classification/venv/lib/python3.11/site-packages (from imbalanced-learn->imblearn) (1.4.1.post1)\n",
      "Requirement already satisfied: joblib>=1.1.1 in /Users/yivl/masters/AAI-521-Sports-Image-Classification/venv/lib/python3.11/site-packages (from imbalanced-learn->imblearn) (1.3.2)\n",
      "Requirement already satisfied: threadpoolctl>=2.0.0 in /Users/yivl/masters/AAI-521-Sports-Image-Classification/venv/lib/python3.11/site-packages (from imbalanced-learn->imblearn) (3.3.0)\n"
     ]
    }
   ],
   "source": [
    "!pip install imblearn"
   ]
  },
  {
   "cell_type": "code",
   "execution_count": 33,
   "id": "e0f2582a",
   "metadata": {},
   "outputs": [],
   "source": [
    "from imblearn.over_sampling import SMOTE"
   ]
  },
  {
   "cell_type": "code",
   "execution_count": 34,
   "id": "a846a076",
   "metadata": {},
   "outputs": [],
   "source": [
    "# Split the data into training and test sets\n",
    "X_train, X_test, y_train, y_test = train_test_split(X, y, test_size=0.2, random_state=531)\n",
    "\n",
    "# Apply SMOTE to the training data only!\n",
    "smote = SMOTE(random_state=531)\n",
    "X_train_smote, y_train_smote = smote.fit_resample(X_train, y_train)\n"
   ]
  },
  {
   "cell_type": "markdown",
   "id": "122cab5b",
   "metadata": {},
   "source": [
    "# Run a Logistic Regression with SMOTE "
   ]
  },
  {
   "cell_type": "markdown",
   "id": "9841c372",
   "metadata": {},
   "source": [
    "<p><font color='blue'>Graded cell &#9658;</font></p>"
   ]
  },
  {
   "cell_type": "code",
   "execution_count": 35,
   "id": "c494d886",
   "metadata": {},
   "outputs": [
    {
     "name": "stdout",
     "output_type": "stream",
     "text": [
      "              precision    recall  f1-score   support\n",
      "\n",
      "           0       0.90      0.85      0.88        75\n",
      "           1       0.79      0.85      0.82        48\n",
      "\n",
      "    accuracy                           0.85       123\n",
      "   macro avg       0.84      0.85      0.85       123\n",
      "weighted avg       0.86      0.85      0.85       123\n",
      "\n"
     ]
    }
   ],
   "source": [
    "# Train a logistic regression model on the SMOTE data\n",
    "\n",
    "# Train a logistic regression model on the original data\n",
    "logreg = LogisticRegression(max_iter=10000)\n",
    "logreg.fit(X_train_smote, y_train_smote)\n",
    "\n",
    "# Evaluate the model\n",
    "y_pred = logreg.predict(X_test)\n",
    "\n",
    "cr_logreg_smote = classification_report(y_test, y_pred)\n",
    "print(cr_logreg_smote)\n"
   ]
  },
  {
   "cell_type": "markdown",
   "id": "9c8a9d85",
   "metadata": {},
   "source": [
    "# Logistic Regression with SMOTE + Re-Weighting"
   ]
  },
  {
   "cell_type": "markdown",
   "id": "07e31789",
   "metadata": {},
   "source": [
    "<p><font color='blue'>Graded cell &#9658;</font></p>"
   ]
  },
  {
   "cell_type": "code",
   "execution_count": 36,
   "id": "552eb167",
   "metadata": {},
   "outputs": [],
   "source": [
    "# Use sample weights from logistic regression with re-weighting and/or choose new weights\n",
    "\n",
    "cr_log_reg_smote_reweight = reweight_model(weights={0: 20.5, 1: 1})"
   ]
  },
  {
   "cell_type": "markdown",
   "id": "e08c5c0f",
   "metadata": {},
   "source": [
    "# Aggregate Classification Reports for Comparison"
   ]
  },
  {
   "cell_type": "markdown",
   "id": "4959fa0b",
   "metadata": {},
   "source": [
    "<p><font color='blue'>Graded cell &#9658;</font></p>"
   ]
  },
  {
   "cell_type": "code",
   "execution_count": 37,
   "id": "eeb412c9",
   "metadata": {},
   "outputs": [
    {
     "name": "stdout",
     "output_type": "stream",
     "text": [
      "              precision    recall  f1-score   support\n",
      "\n",
      "           0       0.87      0.95      0.90        75\n",
      "           1       0.90      0.77      0.83        48\n",
      "\n",
      "    accuracy                           0.88       123\n",
      "   macro avg       0.88      0.86      0.87       123\n",
      "weighted avg       0.88      0.88      0.88       123\n",
      "\n",
      "              precision    recall  f1-score   support\n",
      "\n",
      "           0       0.71      1.00      0.83        75\n",
      "           1       1.00      0.38      0.55        48\n",
      "\n",
      "    accuracy                           0.76       123\n",
      "   macro avg       0.86      0.69      0.69       123\n",
      "weighted avg       0.83      0.76      0.72       123\n",
      "\n",
      "              precision    recall  f1-score   support\n",
      "\n",
      "           0       0.90      0.85      0.88        75\n",
      "           1       0.79      0.85      0.82        48\n",
      "\n",
      "    accuracy                           0.85       123\n",
      "   macro avg       0.84      0.85      0.85       123\n",
      "weighted avg       0.86      0.85      0.85       123\n",
      "\n",
      "              precision    recall  f1-score   support\n",
      "\n",
      "           0       0.71      1.00      0.83        75\n",
      "           1       1.00      0.38      0.55        48\n",
      "\n",
      "    accuracy                           0.76       123\n",
      "   macro avg       0.86      0.69      0.69       123\n",
      "weighted avg       0.83      0.76      0.72       123\n",
      "\n"
     ]
    }
   ],
   "source": [
    "# Generate classification reports\n",
    "\n",
    "# Combine the reports\n",
    "\n",
    "# Print the combined report\n",
    "\n",
    "print(cr_unbalanced_biased)\n",
    "print(cr_logreg_unbiased_reweighted)\n",
    "print(cr_logreg_smote)\n",
    "print(cr_log_reg_smote_reweight)"
   ]
  },
  {
   "cell_type": "markdown",
   "id": "88ab0f90",
   "metadata": {},
   "source": [
    "### Q5. Briefly discuss the techniques used to address dataset imbalance and bias. What are the advantages and limitations of each method?"
   ]
  },
  {
   "cell_type": "markdown",
   "id": "5f824496",
   "metadata": {},
   "source": [
    "<font color=\"blue\">Response: </font>\n",
    "\n",
    "Techniques used were to used reweighting valu for the model and SMOTE (Synthetic Minority Over-sampling Technique) is an oversampling method to balance datasets, and a combination of the two. Pros are that you can get a better representation and a more accuracte answer for the general person. Cons could be that too much synethitic data could cause model drift sooner. "
   ]
  },
  {
   "cell_type": "markdown",
   "id": "142c932d",
   "metadata": {},
   "source": [
    "### Q6. What are the impacts of bias and imbalance on model performance? How do imbalanced and biased datasets affect the performance of machine learning models?"
   ]
  },
  {
   "cell_type": "markdown",
   "id": "b44ad094",
   "metadata": {},
   "source": [
    "<font color=\"blue\">Response: </font>\n",
    "\n",
    "The impact of biased and imblanced datasets trains the model incorrectly and has a lower model performance and model accuracy due to the minority being mis/under-represented. False correlations are more likely to occur when training with biaed / imbalanced data."
   ]
  },
  {
   "cell_type": "markdown",
   "id": "199dcce4",
   "metadata": {},
   "source": [
    "### Q7. How might a model might perform well in terms of accuracy but still be biased?"
   ]
  },
  {
   "cell_type": "markdown",
   "id": "db67deed",
   "metadata": {},
   "source": [
    "<font color=\"blue\">Response: </font>\n",
    "\n",
    "Some biases hold some truth and cannot be dissmissed. A model could be accuracte and biased because the correlation of some features are truly dependent. For example, in order to qualify for a larger loan, it would make sense that you need a higher income or the fact that one is married makes them more likely to qualify for a loan because of larger household income. "
   ]
  },
  {
   "cell_type": "markdown",
   "id": "e0fa1dc9",
   "metadata": {},
   "source": [
    "### Q8. After examination and comparison of the classification reports, what are the key findings? If you were tasked with choosing one model to use in a real-world application, which one would you choose, and why?"
   ]
  },
  {
   "cell_type": "markdown",
   "id": "976142cd",
   "metadata": {},
   "source": [
    "<font color=\"blue\">Response: </font>\n",
    "\n",
    "I would use the origina model and dataset because it's the most accurate on the test dataset when considering both male and females. I would try different techniques like this and notice how the accuracy of my overall model and of the under represented or minority group. \n",
    "\n",
    "I noticed by doing different preprocessing techniques, I could lose accuracy of the other group significantly where the model prediction becomes biased for the under sampled group. \n"
   ]
  },
  {
   "cell_type": "markdown",
   "id": "35295435",
   "metadata": {},
   "source": [
    "### Q9. Which ethical considerations should be taken into account when attempting to correct for bias in a dataset?"
   ]
  },
  {
   "cell_type": "markdown",
   "id": "8ef767bd",
   "metadata": {},
   "source": [
    "<font color=\"blue\">Response: </font>\n",
    "\n",
    "Some ethical considerations when correcting for bias is if bias needs correcting in the first place. If the bias comes from a reflection of environment and not how the data is collected then it may not be appropriate to correct. "
   ]
  },
  {
   "cell_type": "markdown",
   "id": "012c048c",
   "metadata": {},
   "source": [
    "### Q10 Discuss the trade-offs between model accuracy and fairness. How might the pursuit of fairness in a dataset conflict with other data science goals? When might it be more important to prioritize one over the other? How would you make a decision about the acceptable level of trade-off in a real-world scenario?"
   ]
  },
  {
   "cell_type": "markdown",
   "id": "f8ff8664",
   "metadata": {},
   "source": [
    "<font color=\"blue\">Response [Trade-offs: Model Accuracy & Fairness]: </font>\n",
    "\n",
    "Trade offs when it comes to accuracy and fairness is how much will the modle be tuned with weights in order to compensate for the bias in the dataset. Data scietist will have to determine how much of their data to use or how much preprocessing they could do without drifting from the original model accuracy or introducing new bias."
   ]
  },
  {
   "cell_type": "markdown",
   "id": "cc73b846",
   "metadata": {},
   "source": [
    "<font color=\"blue\">Response [Goals Conflict & Prioritization]: </font>\n",
    "\n",
    "In the pursuit of fairness the model could be trained with biased weights that try to counter fit the original bias in the data collected and used to train model. This could really conflict with the data science goals of analyzing the raw data as is and not fabricate results to achieve fairness. "
   ]
  },
  {
   "cell_type": "markdown",
   "id": "ff8fa064",
   "metadata": {},
   "source": [
    "<font color=\"blue\">Response [Decision on Acceptable Trade-Off]: </font>\n",
    "\n",
    "The acceptable level of trade-off will vary for each individual real world scenario. Things to consider would always be how much the minority group are under represented, the original and modified (reweighted) accuracy of model, and how valid is the inherit bias in the dataset. To me as long as I don't put a group in a much greater disadvantage, as I'm trying to rebalance the model weights, giving both groups a fair chance by improving the minority greatly and minimizing the accuracy loss of the majority group. "
   ]
  },
  {
   "cell_type": "code",
   "execution_count": null,
   "id": "e2d1f7a4",
   "metadata": {},
   "outputs": [],
   "source": [
    "# Colab2PDF v1.0.2 by Drengskapur (github.com/drengskapur/colab2pdf) (License: GPL-3.0-or-later)\n",
    "# @title {display-mode:\"form\"}\n",
    "# @markdown ⬇️ Download PDF\n",
    "def colab2pdf():\n",
    "    ENABLE=True # @param {type:\"boolean\"}\n",
    "    if ENABLE:\n",
    "        import os, datetime, json, locale, pathlib, urllib, requests, werkzeug, nbformat, google, yaml, warnings\n",
    "        locale.setlocale(locale.LC_ALL, 'en_US.UTF-8')\n",
    "        NAME = pathlib.Path(werkzeug.utils.secure_filename(urllib.parse.unquote(requests.get(f\"http://{os.environ['COLAB_JUPYTER_IP']}:{os.environ['KMP_TARGET_PORT']}/api/sessions\").json()[0][\"name\"])))\n",
    "        TEMP = pathlib.Path(\"/content/pdfs\") / f\"{datetime.datetime.now().strftime('%Y%m%d_%H%M%S')}_{NAME.stem}\"; TEMP.mkdir(parents=True, exist_ok=True)\n",
    "        NB = [cell for cell in nbformat.reads(json.dumps(google.colab._message.blocking_request(\"get_ipynb\", timeout_sec=30)[\"ipynb\"]), as_version=4).cells if \"--Colab2PDF\" not in cell.source]\n",
    "        warnings.filterwarnings('ignore', category=nbformat.validator.MissingIDFieldWarning)\n",
    "        with (TEMP / f\"{NAME.stem}.ipynb\").open(\"w\", encoding=\"utf-8\") as nb_copy: nbformat.write(nbformat.v4.new_notebook(cells=NB or [nbformat.v4.new_code_cell(\"#\")]), nb_copy)\n",
    "        if not pathlib.Path(\"/usr/local/bin/quarto\").exists():\n",
    "            !wget -q \"https://quarto.org/download/latest/quarto-linux-amd64.deb\" -P {TEMP} && dpkg -i {TEMP}/quarto-linux-amd64.deb > /dev/null && quarto install tinytex --update-path --quiet\n",
    "        with (TEMP / \"config.yml\").open(\"w\", encoding=\"utf-8\") as file: yaml.dump({'include-in-header': [{\"text\": r\"\\usepackage{fvextra}\\DefineVerbatimEnvironment{Highlighting}{Verbatim}{breaksymbolleft={},showspaces=false,showtabs=false,breaklines,breakanywhere,commandchars=\\\\\\{\\}}\"}],'include-before-body': [{\"text\": r\"\\DefineVerbatimEnvironment{verbatim}{Verbatim}{breaksymbolleft={},showspaces=false,showtabs=false,breaklines}\"}]}, file)\n",
    "        !quarto render {TEMP}/{NAME.stem}.ipynb --metadata-file={TEMP}/config.yml --to pdf -M latex-auto-install -M margin-top=1in -M margin-bottom=1in -M margin-left=1in -M margin-right=1in --quiet\n",
    "        google.colab.files.download(str(TEMP / f\"{NAME.stem}.pdf\"))\n",
    "colab2pdf()"
   ]
  }
 ],
 "metadata": {
  "kernelspec": {
   "display_name": "Python 3 (ipykernel)",
   "language": "python",
   "name": "python3"
  },
  "language_info": {
   "codemirror_mode": {
    "name": "ipython",
    "version": 3
   },
   "file_extension": ".py",
   "mimetype": "text/x-python",
   "name": "python",
   "nbconvert_exporter": "python",
   "pygments_lexer": "ipython3",
   "version": "3.11.8"
  }
 },
 "nbformat": 4,
 "nbformat_minor": 5
}
